{
  "nbformat": 4,
  "nbformat_minor": 0,
  "metadata": {
    "colab": {
      "provenance": [],
      "authorship_tag": "ABX9TyOH8H8zqpXERmELR5QZpsxl",
      "include_colab_link": true
    },
    "kernelspec": {
      "name": "python3",
      "display_name": "Python 3"
    },
    "language_info": {
      "name": "python"
    }
  },
  "cells": [
    {
      "cell_type": "markdown",
      "metadata": {
        "id": "view-in-github",
        "colab_type": "text"
      },
      "source": [
        "<a href=\"https://colab.research.google.com/github/augustofps/oficina-de-github/blob/main/Projeto_BD_SQLite.ipynb\" target=\"_parent\"><img src=\"https://colab.research.google.com/assets/colab-badge.svg\" alt=\"Open In Colab\"/></a>"
      ]
    },
    {
      "cell_type": "code",
      "execution_count": null,
      "metadata": {
        "id": "-tx1Fuv09H44"
      },
      "outputs": [],
      "source": []
    },
    {
      "cell_type": "markdown",
      "source": [
        "Seção 1: Importar bibliotecas e conectar ao banco"
      ],
      "metadata": {
        "id": "OR-G_G4Z-hQQ"
      }
    },
    {
      "cell_type": "code",
      "source": [
        "import sqlite3\n",
        "\n",
        "conn = sqlite3.connect(':memory:')  # ou 'projeto.db' para salvar em arquivo\n",
        "cursor = conn.cursor()\n",
        "cursor.execute(\"PRAGMA foreign_keys = ON;\")  # Ativa as chaves estrangeiras"
      ],
      "metadata": {
        "colab": {
          "base_uri": "https://localhost:8080/"
        },
        "id": "3FcNTc2y9WJg",
        "outputId": "7437d679-697b-4eda-b083-739295af5c2e"
      },
      "execution_count": 1,
      "outputs": [
        {
          "output_type": "execute_result",
          "data": {
            "text/plain": [
              "<sqlite3.Cursor at 0x78f8b67de9c0>"
            ]
          },
          "metadata": {},
          "execution_count": 1
        }
      ]
    },
    {
      "cell_type": "markdown",
      "source": [
        "Seção 2: Criação das tabelas"
      ],
      "metadata": {
        "id": "Dy1GtBo6-ntY"
      }
    },
    {
      "cell_type": "code",
      "source": [
        "cursor.execute('''\n",
        "    CREATE TABLE IF NOT EXISTS pessoas (\n",
        "        id INTEGER PRIMARY KEY AUTOINCREMENT,\n",
        "        nome TEXT NOT NULL,\n",
        "        idade INTEGER\n",
        "    );\n",
        "''')\n",
        "\n",
        "cursor.execute('''\n",
        "    CREATE TABLE IF NOT EXISTS produtos (\n",
        "        id INTEGER PRIMARY KEY AUTOINCREMENT,\n",
        "        descricao TEXT NOT NULL,\n",
        "        estoque INTEGER,\n",
        "        preco REAL\n",
        "    );\n",
        "''')\n",
        "\n",
        "cursor.execute('''\n",
        "    CREATE TABLE IF NOT EXISTS vendas (\n",
        "        id_venda INTEGER PRIMARY KEY AUTOINCREMENT,\n",
        "        id_pessoa INTEGER,\n",
        "        id_produto INTEGER,\n",
        "        quantidade INTEGER,\n",
        "        FOREIGN KEY (id_pessoa) REFERENCES pessoas(id),\n",
        "        FOREIGN KEY (id_produto) REFERENCES produtos(id)\n",
        "    );\n",
        "''')\n",
        "conn.commit()"
      ],
      "metadata": {
        "id": "omeqcqdK9e7T"
      },
      "execution_count": null,
      "outputs": []
    },
    {
      "cell_type": "markdown",
      "source": [
        "Seção 3: Inserção de dados"
      ],
      "metadata": {
        "id": "60ytERqR-vVr"
      }
    },
    {
      "cell_type": "code",
      "source": [
        "cursor.execute(\"INSERT INTO pessoas (nome, idade) VALUES ('Maria', 30);\")\n",
        "cursor.execute(\"INSERT INTO pessoas (nome, idade) VALUES ('João', 25);\")\n",
        "cursor.execute(\"INSERT INTO pessoas (nome, idade) VALUES ('Ana', 40);\")\n",
        "\n",
        "cursor.execute(\"INSERT INTO produtos (descricao, estoque, preco) VALUES ('Caneta', 100, 1.50);\")\n",
        "cursor.execute(\"INSERT INTO produtos (descricao, estoque, preco) VALUES ('Caderno', 50, 6.50);\")\n",
        "conn.commit()"
      ],
      "metadata": {
        "id": "Fjt18deJ9iES"
      },
      "execution_count": null,
      "outputs": []
    },
    {
      "cell_type": "markdown",
      "source": [
        "Seção 4: Inserção de vendas e consultas"
      ],
      "metadata": {
        "id": "x7yjiSkQ-0f2"
      }
    },
    {
      "cell_type": "code",
      "source": [
        "cursor.execute(\"INSERT INTO vendas (id_pessoa, id_produto, quantidade) VALUES (1, 1, 10);\")\n",
        "cursor.execute(\"INSERT INTO vendas (id_pessoa, id_produto, quantidade) VALUES (2, 2, 2);\")\n",
        "conn.commit()\n",
        "\n",
        "cursor.execute('''\n",
        "    SELECT v.id_venda, p.nome, pr.descricao, v.quantidade\n",
        "    FROM vendas v\n",
        "    JOIN pessoas p ON v.id_pessoa = p.id\n",
        "    JOIN produtos pr ON v.id_produto = pr.id;\n",
        "''')\n",
        "results = cursor.fetchall()\n",
        "for row in results:\n",
        "    print(row)"
      ],
      "metadata": {
        "id": "tsH2FJwv9n6P"
      },
      "execution_count": null,
      "outputs": []
    },
    {
      "cell_type": "markdown",
      "source": [],
      "metadata": {
        "id": "kL-Y5B03-5He"
      }
    },
    {
      "cell_type": "markdown",
      "source": [
        "Seção 5: Encerramento"
      ],
      "metadata": {
        "id": "XRZOG9Kw-78Y"
      }
    },
    {
      "cell_type": "code",
      "source": [
        "conn.close()"
      ],
      "metadata": {
        "id": "wa6j5LZb9qug"
      },
      "execution_count": null,
      "outputs": []
    }
  ]
}